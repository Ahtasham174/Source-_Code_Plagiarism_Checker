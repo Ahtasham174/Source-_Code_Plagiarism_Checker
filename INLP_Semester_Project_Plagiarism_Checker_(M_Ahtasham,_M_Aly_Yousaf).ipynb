{
  "nbformat": 4,
  "nbformat_minor": 0,
  "metadata": {
    "colab": {
      "provenance": []
    },
    "kernelspec": {
      "name": "python3",
      "display_name": "Python 3"
    },
    "language_info": {
      "name": "python"
    }
  },
  "cells": [
    {
      "cell_type": "markdown",
      "source": [
        "# **INLP Semester Project**\n",
        "\n",
        "## **C++ Source Code Plgiarism Checker**\n",
        "\n",
        "### **Group members:**\n",
        "1. Muhammad Ahtasham\n",
        "2. Muhammad Aly Yousaf\n"
      ],
      "metadata": {
        "id": "mefSBoZ7aPdX"
      }
    },
    {
      "cell_type": "markdown",
      "source": [
        "This portion imports the necessary libraries for various tasks such as natural language processing, similarity calculation, machine learning, and PDF generation."
      ],
      "metadata": {
        "id": "gDYTCsVqFRVv"
      }
    },
    {
      "cell_type": "code",
      "execution_count": null,
      "metadata": {
        "id": "BHyKEz8tCA93"
      },
      "outputs": [],
      "source": [
        "import os\n",
        "import spacy\n",
        "from difflib import SequenceMatcher\n",
        "from sklearn.feature_extraction.text import TfidfVectorizer\n",
        "from sklearn.naive_bayes import MultinomialNB\n",
        "from sklearn.model_selection import train_test_split\n",
        "from sklearn.metrics.pairwise import cosine_similarity\n",
        "from sklearn.metrics import jaccard_score\n",
        "from transformers import AutoTokenizer, AutoModel\n",
        "import torch\n",
        "import pickle\n",
        "from pygments.lexers import get_lexer_by_name\n",
        "from fpdf import FPDF"
      ]
    },
    {
      "cell_type": "markdown",
      "source": [
        "This part initializes the English language model for NLP tasks using SpaCy and a transformer model for code embeddings using the Hugging Face library."
      ],
      "metadata": {
        "id": "WHs3qGTHFXFA"
      }
    },
    {
      "cell_type": "code",
      "source": [
        "# Load the English language model in Spacy\n",
        "nlp = spacy.load(\"en_core_web_sm\")\n",
        "\n",
        "# Load a transformer model for code embeddings\n",
        "tokenizer = AutoTokenizer.from_pretrained(\"huggingface/CodeBERTa-small-v1\")\n",
        "model = AutoModel.from_pretrained(\"huggingface/CodeBERTa-small-v1\")"
      ],
      "metadata": {
        "id": "dwIEJI-1Fgmk"
      },
      "execution_count": null,
      "outputs": []
    },
    {
      "cell_type": "markdown",
      "source": [
        "These functions define various tasks such as extracting features from code, calculating similarity, generating reports, saving reports as PDFs, and training machine learning models.\n",
        "\n",
        "\n"
      ],
      "metadata": {
        "id": "UNo_654vFkLf"
      }
    },
    {
      "cell_type": "code",
      "source": [
        "# Function to get token sequences from code snippets using Pygments\n",
        "def get_token_sequence(code):\n",
        "    lexer = get_lexer_by_name(\"cpp\")\n",
        "    return [token for token, _ in lexer.get_tokens(code)]"
      ],
      "metadata": {
        "id": "MVi55EzVFn53"
      },
      "execution_count": null,
      "outputs": []
    },
    {
      "cell_type": "markdown",
      "source": [
        "This function extracts various features from the C++ code, including functions, variables, control flow constructs, loops, and basic code metrics."
      ],
      "metadata": {
        "id": "HAaJAmsIFsK_"
      }
    },
    {
      "cell_type": "code",
      "source": [
        "# Function to get token sequences from code snippets using Pygments\n",
        "def get_token_sequence(code):\n",
        "    lexer = get_lexer_by_name(\"cpp\")\n",
        "    return [token for token, _ in lexer.get_tokens(code)]\n",
        "\n",
        "# Function to extract features from C++ code\n",
        "def extract_features_from_code(code):\n",
        "    doc = nlp(code)\n",
        "\n",
        "    functions = []\n",
        "    variables = []\n",
        "    control_flow = []\n",
        "    loops = []\n",
        "    for token in doc:\n",
        "        if token.pos_ == 'NOUN' and token.dep_ == 'compound':\n",
        "            if token.head.pos_ == 'NOUN':\n",
        "                variables.append(token.text)\n",
        "        elif token.pos_ == 'NOUN' and token.dep_ == 'nsubj':\n",
        "            if token.head.pos_ == 'VERB':\n",
        "                functions.append(token.text)\n",
        "        elif token.text in ['if', 'else', 'switch']:\n",
        "            control_flow.append(token.text)\n",
        "        elif token.text in ['for', 'while', 'do']:\n",
        "            loops.append(token.text)\n",
        "\n",
        "    code_metrics = {\n",
        "        'lines_of_code': len(code.split('\\n')),\n",
        "        'cyclomatic_complexity': len(control_flow) + len(loops) + 1\n",
        "    }\n",
        "\n",
        "    return functions, variables, control_flow, loops, code_metrics\n",
        "\n",
        "# Function to calculate similarity between two C++ code samples\n",
        "def calculate_similarity(code1, code2):\n",
        "    features1 = extract_features_from_code(code1)\n",
        "    features2 = extract_features_from_code(code2)\n",
        "\n",
        "    similarity_scores = {}\n",
        "\n",
        "    # Function similarity\n",
        "    functions1 = set(features1[0])\n",
        "    functions2 = set(features2[0])\n",
        "    function_similarity = len(functions1.intersection(functions2)) / max(len(functions1), len(functions2)) if len(functions1) > 0 and len(functions2) > 0 else 0\n",
        "    similarity_scores['function_similarity'] = function_similarity\n",
        "\n",
        "    # Variable similarity\n",
        "    variables1 = set(features1[1])\n",
        "    variables2 = set(features2[1])\n",
        "    variable_similarity = len(variables1.intersection(variables2)) / max(len(variables1), len(variables2)) if len(variables1) > 0 and len(variables2) > 0 else 0\n",
        "    similarity_scores['variable_similarity'] = variable_similarity\n",
        "\n",
        "    # Control flow similarity\n",
        "    control_flow1 = set(features1[2])\n",
        "    control_flow2 = set(features2[2])\n",
        "    control_flow_similarity = len(control_flow1.intersection(control_flow2)) / max(len(control_flow1), len(control_flow2)) if len(control_flow1) > 0 and len(control_flow2) > 0 else 0\n",
        "    similarity_scores['control_flow_similarity'] = control_flow_similarity\n",
        "\n",
        "    # Loop similarity\n",
        "    loops1 = set(features1[3])\n",
        "    loops2 = set(features2[3])\n",
        "    loop_similarity = len(loops1.intersection(loops2)) / max(len(loops1), len(loops2)) if len(loops1) > 0 and len(loops2) > 0 else 0\n",
        "    similarity_scores['loop_similarity'] = loop_similarity\n",
        "\n",
        "    # Code structure similarity\n",
        "    tokens1 = get_token_sequence(code1)\n",
        "    tokens2 = get_token_sequence(code2)\n",
        "    code_similarity = SequenceMatcher(None, tokens1, tokens2).ratio()\n",
        "    similarity_scores['code_structure_similarity'] = code_similarity\n",
        "\n",
        "    # Token embedding similarity using transformer model\n",
        "    inputs1 = tokenizer(code1, return_tensors='pt')\n",
        "    inputs2 = tokenizer(code2, return_tensors='pt')\n",
        "    with torch.no_grad():\n",
        "        embeddings1 = model(**inputs1).last_hidden_state.mean(dim=1)\n",
        "        embeddings2 = model(**inputs2).last_hidden_state.mean(dim=1)\n",
        "    embedding_similarity = cosine_similarity(embeddings1, embeddings2).item()\n",
        "    similarity_scores['embedding_similarity'] = embedding_similarity\n",
        "\n",
        "    # Code metrics similarity\n",
        "    metrics1 = features1[4]\n",
        "    metrics2 = features2[4]\n",
        "    metrics_similarity = 1 - sum(abs(value1 - value2) for value1, value2 in zip(metrics1.values(), metrics2.values())) / sum(metrics1.values()) if sum(metrics1.values()) > 0 else 0\n",
        "    similarity_scores['code_metrics_similarity'] = metrics_similarity\n",
        "\n",
        "    # Overall similarity (average of all similarities)\n",
        "    overall_similarity = sum(similarity_scores.values()) / len(similarity_scores)\n",
        "    similarity_scores['overall_similarity'] = overall_similarity\n",
        "\n",
        "    return similarity_scores, features1, features2\n",
        "\n",
        "# Function to generate a report\n",
        "def generate_report(code1, code2, similarity_scores, features1, features2):\n",
        "    report = 'Plagiarism Report\\n\\n'\n",
        "\n",
        "    report += 'Similarity Scores:\\n'\n",
        "    for score_name, score_value in similarity_scores.items():\n",
        "        report += f'{score_name.replace(\"_\", \" \").capitalize()}: {score_value:.2f}\\n'\n",
        "\n",
        "    report += '\\nDetailed Comparison:\\n'\n",
        "\n",
        "    report += 'Functions (Total: {} in Code 1, {} in Code 2):\\n'.format(len(features1[0]), len(features2[0]))\n",
        "    for function in features1[0]:\n",
        "        report += f'  {function}\\n'\n",
        "    report += '\\nShared Functions:\\n'\n",
        "    for function in set(features1[0]).intersection(set(features2[0])):\n",
        "        report += f'  {function}\\n'\n",
        "\n",
        "    report += '\\nVariables (Total: {} in Code 1, {} in Code 2):\\n'.format(len(features1[1]), len(features2[1]))\n",
        "    for variable in features1[1]:\n",
        "        report += f'  {variable}\\n'\n",
        "    report += '\\nShared Variables:\\n'\n",
        "    for variable in set(features1[1]).intersection(set(features2[1])):\n",
        "        report += f'  {variable}\\n'\n",
        "\n",
        "    report += '\\nConditionals (Total: {} in Code 1, {} in Code 2):\\n'.format(len(features1[2]), len(features2[2]))\n",
        "    for conditional in features1[2]:\n",
        "        report += f'  {conditional}\\n'\n",
        "    report += '\\nShared Conditionals:\\n'\n",
        "    for conditional in set(features1[2]).intersection(set(features2[2])):\n",
        "        report += f'  {conditional}\\n'\n",
        "\n",
        "    report += '\\nLoops (Total: {} in Code 1, {} in Code 2):\\n'.format(len(features1[3]), len(features2[3]))\n",
        "    for loop in features1[3]:\n",
        "        report += f'  {loop}\\n'\n",
        "    report += '\\nShared Loops:\\n'\n",
        "    for loop in set(features1[3]).intersection(set(features2[3])):\n",
        "        report += f'  {loop}\\n'\n",
        "\n",
        "    report += '\\nCode Metrics for Code 1:\\n'\n",
        "    for metric, value in features1[4].items():\n",
        "        report += f'  {metric}: {value}\\n'\n",
        "\n",
        "    report += '\\nCode Metrics for Code 2:\\n'\n",
        "    for metric, value in features2[4].items():\n",
        "        report += f'  {metric}: {value}\\n'\n",
        "\n",
        "    # Display the plagiarized regions\n",
        "    report += '\\nPlagiarized Regions:\\n'\n",
        "    matches = SequenceMatcher(None, code1, code2).get_matching_blocks()\n",
        "    start1 = start2 = 0\n",
        "    for match in matches:\n",
        "        if match.size > 0:\n",
        "            start1 += match.a\n",
        "            start2 += match.b\n",
        "            report += f'Code 1 ({start1}:{start1 + match.size}):\\n{code1[start1:start1 + match.size]}\\n'\n",
        "            report += f'Code 2 ({start2}:{start2 + match.size}):\\n{code2[start2:start2 + match.size]}\\n'\n",
        "            start1 += match.size\n",
        "            start2 += match.size\n",
        "\n",
        "    return report\n",
        "\n",
        "\n",
        "# Function to save the report as a PDF\n",
        "def save_report_as_pdf(report, filename):\n",
        "    pdf = FPDF()\n",
        "    pdf.add_page()\n",
        "    pdf.set_font(\"Arial\", size=12)\n",
        "    for line in report.split('\\n'):\n",
        "        pdf.cell(200, 10, txt=line, ln=True, align='L')\n",
        "    pdf.output(filename)\n",
        "\n",
        "# Function to train and save a machine learning model\n",
        "def train_and_save_model(dataset_folder):\n",
        "    corpus = []\n",
        "    labels = []\n",
        "    for root, _, files in os.walk(dataset_folder):\n",
        "        for file in files:\n",
        "            if file.endswith('.cpp'):\n",
        "                file_path = os.path.join(root, file)\n",
        "                with open(file_path, 'r') as f:\n",
        "                    code = f.read()\n",
        "                    corpus.append(code)\n",
        "                    # Assign labels based on the folder structure or other criteria\n",
        "                    label = 0 if 'plagiarized' in root else 1  # Example: binary labels (0 for plagiarized, 1 for non-plagiarized)\n",
        "                    labels.append(label)\n",
        "\n",
        "    vectorizer = TfidfVectorizer()\n",
        "    X = vectorizer.fit_transform(corpus)\n",
        "    y = labels\n",
        "\n",
        "    # Split the data into train and test sets\n",
        "    X_train, X_test, y_train, y_test = train_test_split(X, y, test_size=0.2, random_state=42)\n",
        "\n",
        "    # Train a Naive Bayes classifier\n",
        "    model = MultinomialNB()\n",
        "    model.fit(X_train, y_train)\n",
        "\n",
        "    # Evaluate the model\n",
        "    y_pred = model.predict(X_test)\n",
        "    accuracy = accuracy_score(y_test, y_pred)\n",
        "    precision = precision_score(y_test, y_pred, average='weighted')\n",
        "    recall = recall_score(y_test, y_pred, average='weighted')\n",
        "    f1 = f1_score(y_test, y_pred, average='weighted')\n",
        "    print(f\"Accuracy: {accuracy:.2f}\")\n",
        "    print(f\"Precision: {precision:.2f}\")\n",
        "    print(f\"Recall: {recall:.2f}\")\n",
        "    print(f\"F1 Score: {f1:.2f}\")\n",
        "\n",
        "    # Save the trained model and vectorizer\n",
        "    with open('trained_model.pkl', 'wb') as f:\n",
        "        pickle.dump(vectorizer, f)\n",
        "        pickle.dump(model, f)"
      ],
      "metadata": {
        "id": "mcFC3BgRFu3D"
      },
      "execution_count": null,
      "outputs": []
    },
    {
      "cell_type": "markdown",
      "source": [
        "These are examples of C++ code snippets that will be used to demonstrate the functionalities of the provided functions."
      ],
      "metadata": {
        "id": "uAS3EYpkFyTn"
      }
    },
    {
      "cell_type": "code",
      "source": [
        "# Example usage with sample code inputs\n",
        "code_sample1 = '''\n",
        "#include <iostream>\n",
        "using namespace std;\n",
        "\n",
        "// Function to calculate the factorial of a number\n",
        "int factorial(int n) {\n",
        "    if (n <= 1)\n",
        "        return 1;\n",
        "    else\n",
        "        return n * factorial(n - 1);\n",
        "}\n",
        "\n",
        "// Function to check if a number is prime\n",
        "bool isPrime(int n) {\n",
        "    if (n <= 1)\n",
        "        return false;\n",
        "    for (int i = 2; i * i <= n; i++) {\n",
        "        if (n % i == 0)\n",
        "            return false;\n",
        "    }\n",
        "    return true;\n",
        "}\n",
        "\n",
        "int main() {\n",
        "    int num1 = 10;\n",
        "    int num2 = 20;\n",
        "    int sum = num1 + num2;\n",
        "\n",
        "    // Loop to print numbers from 1 to 10\n",
        "    for (int i = 1; i <= 10; i++) {\n",
        "        cout << i << \" \";\n",
        "    }\n",
        "    cout << endl;\n",
        "\n",
        "    // Loop to calculate and print the factorial of numbers from 1 to 5\n",
        "    for (int i = 1; i <= 5; i++) {\n",
        "        cout << \"Factorial of \" << i << \" is \" << factorial(i) << endl;\n",
        "    }\n",
        "\n",
        "    // Loop to check and print prime numbers between 1 and 20\n",
        "    cout << \"Prime numbers between 1 and 20: \";\n",
        "    for (int i = 1; i <= 20; i++) {\n",
        "        if (isPrime(i))\n",
        "            cout << i << \" \";\n",
        "    }\n",
        "    cout << endl;\n",
        "\n",
        "    // Conditional to check the sum of two numbers\n",
        "    if (sum > 50) {\n",
        "        cout << \"Sum is greater than 50\" << endl;\n",
        "    } else {\n",
        "        cout << \"Sum is less than or equal to 50\" << endl;\n",
        "    }\n",
        "\n",
        "    return 0;\n",
        "}\n",
        "'''\n",
        "\n",
        "code_sample2 = '''\n",
        "#include <iostream>\n",
        "using namespace std;\n",
        "\n",
        "int main() {\n",
        "    int x, y;\n",
        "    char op;\n",
        "\n",
        "    cout << \"Enter first number: \";\n",
        "    cin >> x;\n",
        "    cout << \"Enter second number: \";\n",
        "    cin >> y;\n",
        "    cout << \"Enter operation (+, -, *, /): \";\n",
        "    cin >> op;\n",
        "\n",
        "    switch(op) {\n",
        "        case '+':\n",
        "            cout << \"Result: \" << (x + y) << endl;\n",
        "            break;\n",
        "        case '-':\n",
        "            cout << \"Result: \" << (x - y) << endl;\n",
        "            break;\n",
        "        case '*':\n",
        "            cout << \"Result: \" << (x * y) << endl;\n",
        "            break;\n",
        "        case '/':\n",
        "            if (y != 0)\n",
        "                cout << \"Result: \" << (x / y) << endl;\n",
        "            else\n",
        "                cout << \"Division by zero error!\" << endl;\n",
        "            break;\n",
        "        default:\n",
        "            cout << \"Invalid operation!\" << endl;\n",
        "    }\n",
        "\n",
        "    return 0;\n",
        "}\n",
        "'''"
      ],
      "metadata": {
        "id": "c_GrpojXHes0"
      },
      "execution_count": null,
      "outputs": []
    },
    {
      "cell_type": "markdown",
      "source": [
        "This part calculates the similarity between two code samples,generate graphs generates a plagiarism report, saves it as a PDF, and prints the report."
      ],
      "metadata": {
        "id": "9t5qAkdnYlb7"
      }
    },
    {
      "cell_type": "code",
      "source": [
        "similarity_scores, features1, features2 = calculate_similarity(code_sample1, code_sample2)\n",
        "generate_graphs(similarity_scores, features1, features2)\n",
        "report = generate_report(code_sample1, code_sample2, similarity_scores, features1, features2)\n",
        "save_report_as_pdf(report, 'plagiarism_report.pdf')"
      ],
      "metadata": {
        "id": "B0c6hnwoJaUo"
      },
      "execution_count": null,
      "outputs": []
    },
    {
      "cell_type": "markdown",
      "source": [
        "This section involves training a machine learning model using a dataset of C++ code files and saving the trained model."
      ],
      "metadata": {
        "id": "eVb_J-5FZdI1"
      }
    },
    {
      "cell_type": "code",
      "source": [
        "# Train and save the model\n",
        "dataset_folder = '/content/drive/MyDrive/cpd/dataset'\n",
        "train_and_save_model(dataset_folder)"
      ],
      "metadata": {
        "colab": {
          "base_uri": "https://localhost:8080/"
        },
        "id": "CjNait-LZd7P",
        "outputId": "cd69ecdc-db33-42a9-9e51-4be6743b9e14"
      },
      "execution_count": null,
      "outputs": [
        {
          "output_type": "stream",
          "name": "stdout",
          "text": [
            "Accuracy: 1.00\n",
            "Precision: 1.00\n",
            "Recall: 1.00\n",
            "F1 Score: 1.00\n"
          ]
        }
      ]
    },
    {
      "cell_type": "markdown",
      "source": [
        "This section prints the report."
      ],
      "metadata": {
        "id": "0WbpAaHIZ92u"
      }
    },
    {
      "cell_type": "code",
      "source": [
        "print(report)"
      ],
      "metadata": {
        "colab": {
          "base_uri": "https://localhost:8080/"
        },
        "id": "-iIrpNCLaFRh",
        "outputId": "c8852c94-d391-4e91-a1b7-460cdd25abeb"
      },
      "execution_count": null,
      "outputs": [
        {
          "output_type": "stream",
          "name": "stdout",
          "text": [
            "Plagiarism Report\n",
            "\n",
            "Similarity Scores:\n",
            "Function similarity: 0.00\n",
            "Variable similarity: 0.00\n",
            "Control flow similarity: 1.00\n",
            "Loop similarity: 0.00\n",
            "Code structure similarity: 0.10\n",
            "Embedding similarity: 0.84\n",
            "Code metrics similarity: 0.59\n",
            "Overall similarity: 0.36\n",
            "\n",
            "Detailed Comparison:\n",
            "Functions (Total: 2 in Code 1, 1 in Code 2):\n",
            "  Function\n",
            "  =\n",
            "\n",
            "Shared Functions:\n",
            "\n",
            "Variables (Total: 1 in Code 1, 2 in Code 2):\n",
            "  int\n",
            "\n",
            "Shared Variables:\n",
            "\n",
            "Conditionals (Total: 8 in Code 1, 2 in Code 2):\n",
            "  if\n",
            "  else\n",
            "  if\n",
            "  if\n",
            "  if\n",
            "  if\n",
            "  if\n",
            "  else\n",
            "\n",
            "Shared Conditionals:\n",
            "  if\n",
            "  else\n",
            "\n",
            "Loops (Total: 4 in Code 1, 0 in Code 2):\n",
            "  for\n",
            "  for\n",
            "  for\n",
            "  for\n",
            "\n",
            "Shared Loops:\n",
            "\n",
            "Code Metrics for Code 1:\n",
            "  lines_of_code: 57\n",
            "  cyclomatic_complexity: 13\n",
            "\n",
            "Code Metrics for Code 2:\n",
            "  lines_of_code: 38\n",
            "  cyclomatic_complexity: 3\n",
            "\n",
            "Plagiarized Regions:\n",
            "Code 1 (0:43):\n",
            "\n",
            "#include <iostream>\n",
            "using namespace std;\n",
            "\n",
            "\n",
            "Code 2 (0:43):\n",
            "\n",
            "#include <iostream>\n",
            "using namespace std;\n",
            "\n",
            "\n",
            "Code 1 (112:113):\n",
            "n\n",
            "Code 2 (118:119):\n",
            ";\n",
            "Code 1 (184:186):\n",
            "ri\n",
            "Code 2 (221:223):\n",
            "*,\n",
            "Code 1 (272:279):\n",
            "n <= 1)\n",
            "Code 2 (331:338):\n",
            ";\n",
            "     \n",
            "Code 1 (504:511):\n",
            "oop to \n",
            "Code 2 (497:504):\n",
            "y) << e\n",
            "Code 1 (747:748):\n",
            " \n",
            "Code 2 (709:710):\n",
            " \n",
            "Code 1 (990:991):\n",
            " \n",
            "Code 2 (1055:1056):\n",
            "\n",
            "Code 1 (1245:1246):\n",
            "n\n",
            "Code 2 (1460:1461):\n",
            "\n",
            "Code 1 (1506:1508):\n",
            "\n",
            "Code 2 (1871:1873):\n",
            "\n",
            "Code 1 (1772:1780):\n",
            "\n",
            "Code 2 (2427:2435):\n",
            "\n",
            "Code 1 (2140:2157):\n",
            "\n",
            "Code 2 (3000:3017):\n",
            "\n",
            "Code 1 (2541:2543):\n",
            "\n",
            "Code 2 (3747:3749):\n",
            "\n",
            "Code 1 (2932:2940):\n",
            "\n",
            "Code 2 (4534:4542):\n",
            "\n",
            "Code 1 (3352:3356):\n",
            "\n",
            "Code 2 (5348:5352):\n",
            "\n",
            "\n"
          ]
        }
      ]
    },
    {
      "cell_type": "code",
      "source": [
        "!pip install fpdf"
      ],
      "metadata": {
        "colab": {
          "base_uri": "https://localhost:8080/"
        },
        "id": "0hQpAckeJbE3",
        "outputId": "c6cd5b7d-8e52-4aa8-bfa5-5b81bc229cae"
      },
      "execution_count": null,
      "outputs": [
        {
          "output_type": "stream",
          "name": "stdout",
          "text": [
            "Collecting fpdf\n",
            "  Downloading fpdf-1.7.2.tar.gz (39 kB)\n",
            "  Preparing metadata (setup.py) ... \u001b[?25l\u001b[?25hdone\n",
            "Building wheels for collected packages: fpdf\n",
            "  Building wheel for fpdf (setup.py) ... \u001b[?25l\u001b[?25hdone\n",
            "  Created wheel for fpdf: filename=fpdf-1.7.2-py2.py3-none-any.whl size=40702 sha256=8b33ca693358c5f61644f9f2e822b4fb74bb58f3f711d8917be88c2f2f245d86\n",
            "  Stored in directory: /root/.cache/pip/wheels/f9/95/ba/f418094659025eb9611f17cbcaf2334236bf39a0c3453ea455\n",
            "Successfully built fpdf\n",
            "Installing collected packages: fpdf\n",
            "Successfully installed fpdf-1.7.2\n"
          ]
        }
      ]
    }
  ]
}